{
 "cells": [
  {
   "cell_type": "code",
   "execution_count": 11,
   "metadata": {},
   "outputs": [],
   "source": [
    "import sklearn\n",
    "from sklearn import metrics\n",
    "import pandas as pd\n",
    "import matplotlib.pyplot as plt\n",
    "import numpy as np"
   ]
  },
  {
   "cell_type": "code",
   "execution_count": 12,
   "metadata": {},
   "outputs": [
    {
     "data": {
      "text/html": [
       "<div>\n",
       "<style scoped>\n",
       "    .dataframe tbody tr th:only-of-type {\n",
       "        vertical-align: middle;\n",
       "    }\n",
       "\n",
       "    .dataframe tbody tr th {\n",
       "        vertical-align: top;\n",
       "    }\n",
       "\n",
       "    .dataframe thead th {\n",
       "        text-align: right;\n",
       "    }\n",
       "</style>\n",
       "<table border=\"1\" class=\"dataframe\">\n",
       "  <thead>\n",
       "    <tr style=\"text-align: right;\">\n",
       "      <th></th>\n",
       "      <th>xdawn_y_pred</th>\n",
       "      <th>xdawn_y_time_pred</th>\n",
       "      <th>y_pred</th>\n",
       "      <th>y_time_pred</th>\n",
       "      <th>y_true</th>\n",
       "    </tr>\n",
       "  </thead>\n",
       "  <tbody>\n",
       "    <tr>\n",
       "      <th>Delta</th>\n",
       "      <td>[2.0, 2.0, 2.0, 2.0, 2.0, 2.0, 2.0, 2.0, 2.0, ...</td>\n",
       "      <td>[[2.0, 2.0, 1.0, 1.0, 1.0, 1.0, 1.0, 1.0, 1.0,...</td>\n",
       "      <td>[2.0, 2.0, 2.0, 2.0, 2.0, 2.0, 2.0, 2.0, 2.0, ...</td>\n",
       "      <td>[[1.0, 2.0, 2.0, 2.0, 2.0, 2.0, 1.0, 1.0, 1.0,...</td>\n",
       "      <td>[2, 2, 2, 2, 2, 2, 2, 2, 2, 2, 2, 2, 2, 2, 2, ...</td>\n",
       "    </tr>\n",
       "  </tbody>\n",
       "</table>\n",
       "</div>"
      ],
      "text/plain": [
       "                                            xdawn_y_pred  \\\n",
       "Delta  [2.0, 2.0, 2.0, 2.0, 2.0, 2.0, 2.0, 2.0, 2.0, ...   \n",
       "\n",
       "                                       xdawn_y_time_pred  \\\n",
       "Delta  [[2.0, 2.0, 1.0, 1.0, 1.0, 1.0, 1.0, 1.0, 1.0,...   \n",
       "\n",
       "                                                  y_pred  \\\n",
       "Delta  [2.0, 2.0, 2.0, 2.0, 2.0, 2.0, 2.0, 2.0, 2.0, ...   \n",
       "\n",
       "                                             y_time_pred  \\\n",
       "Delta  [[1.0, 2.0, 2.0, 2.0, 2.0, 2.0, 1.0, 1.0, 1.0,...   \n",
       "\n",
       "                                                  y_true  \n",
       "Delta  [2, 2, 2, 2, 2, 2, 2, 2, 2, 2, 2, 2, 2, 2, 2, ...  "
      ]
     },
     "execution_count": 12,
     "metadata": {},
     "output_type": "execute_result"
    }
   ],
   "source": [
    "df = pd.read_json('MVPAresults.json')\n",
    "df"
   ]
  },
  {
   "cell_type": "code",
   "execution_count": 13,
   "metadata": {},
   "outputs": [
    {
     "data": {
      "text/plain": [
       "Index(['Delta'], dtype='object')"
      ]
     },
     "execution_count": 13,
     "metadata": {},
     "output_type": "execute_result"
    }
   ],
   "source": [
    "df.index"
   ]
  },
  {
   "cell_type": "code",
   "execution_count": 14,
   "metadata": {},
   "outputs": [],
   "source": [
    "def simple_report(y_pred, y_true):\n",
    "    return sklearn.metrics.classification_report(y_pred=y_pred, y_true=y_true)\n",
    "\n",
    "\n",
    "def time_report(y_preds, y_true, label=''):\n",
    "    plt.style.use('ggplot')\n",
    "    scores = np.zeros(y_preds.shape[0])\n",
    "    for j, y_pred in enumerate(y_preds):\n",
    "        scores[j] = sklearn.metrics.precision_score(y_pred=y_pred, y_true=y_true, average='weighted')\n",
    "    plt.plot(scores, label=label)"
   ]
  },
  {
   "cell_type": "code",
   "execution_count": 15,
   "metadata": {},
   "outputs": [
    {
     "name": "stdout",
     "output_type": "stream",
     "text": [
      "Delta\n",
      "              precision    recall  f1-score   support\n",
      "\n",
      "           1       0.96      0.86      0.91       448\n",
      "           2       0.98      0.99      0.99      2594\n",
      "\n",
      "    accuracy                           0.97      3042\n",
      "   macro avg       0.97      0.93      0.95      3042\n",
      "weighted avg       0.97      0.97      0.97      3042\n",
      "\n",
      "              precision    recall  f1-score   support\n",
      "\n",
      "           1       0.99      0.95      0.97       448\n",
      "           2       0.99      1.00      0.99      2594\n",
      "\n",
      "    accuracy                           0.99      3042\n",
      "   macro avg       0.99      0.97      0.98      3042\n",
      "weighted avg       0.99      0.99      0.99      3042\n",
      "\n"
     ]
    },
    {
     "data": {
      "image/png": "[encoded data removed]",
      "text/plain": [
       "<Figure size 432x288 with 1 Axes>"
      ]
     },
     "metadata": {},
     "output_type": "display_data"
    }
   ],
   "source": [
    "for index in df.index:\n",
    "    print(index)\n",
    "    se = df.loc[index]\n",
    "    y_true = se['y_true']\n",
    "    print(simple_report(y_pred=se['y_pred'], y_true=y_true))\n",
    "    time_report(y_preds=np.array(se['y_time_pred']).transpose(), y_true=y_true, label='raw')\n",
    "    print(simple_report(y_pred=se['xdawn_y_pred'], y_true=y_true))\n",
    "    time_report(y_preds=np.array(se['xdawn_y_time_pred']).transpose(), y_true=y_true, label='xdawn')\n",
    "    plt.legend()\n",
    "    plt.show()"
   ]
  },
  {
   "cell_type": "code",
   "execution_count": null,
   "metadata": {},
   "outputs": [],
   "source": []
  }
 ],
 "metadata": {
  "kernelspec": {
   "display_name": "Python 3",
   "language": "python",
   "name": "python3"
  },
  "language_info": {
   "codemirror_mode": {
    "name": "ipython",
    "version": 3
   },
   "file_extension": ".py",
   "mimetype": "text/x-python",
   "name": "python",
   "nbconvert_exporter": "python",
   "pygments_lexer": "ipython3",
   "version": "3.7.4"
  }
 },
 "nbformat": 4,
 "nbformat_minor": 4
}
